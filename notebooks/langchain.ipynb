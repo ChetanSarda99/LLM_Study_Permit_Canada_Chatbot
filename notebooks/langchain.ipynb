{
 "cells": [
  {
   "cell_type": "code",
   "execution_count": 80,
   "metadata": {},
   "outputs": [],
   "source": [
    "import streamlit as st\n",
    "from langchain.document_loaders.csv_loader import CSVLoader\n",
    "from langchain.vectorstores import FAISS"
   ]
  },
  {
   "cell_type": "code",
   "execution_count": 81,
   "metadata": {},
   "outputs": [
    {
     "data": {
      "text/plain": [
       "True"
      ]
     },
     "execution_count": 81,
     "metadata": {},
     "output_type": "execute_result"
    }
   ],
   "source": [
    "from dotenv import load_dotenv, find_dotenv\n",
    "load_dotenv()"
   ]
  },
  {
   "cell_type": "code",
   "execution_count": 82,
   "metadata": {},
   "outputs": [],
   "source": [
    "loader = CSVLoader(file_path=r\"C:\\Users\\sarda\\OneDrive\\Desktop\\PythonCodes\\PotfolioProjects\\LLM_Internal_Chatbot\\data\\raw\\output_data.csv\")\n",
    "documents = loader.load()"
   ]
  },
  {
   "cell_type": "code",
   "execution_count": 83,
   "metadata": {},
   "outputs": [
    {
     "data": {
      "text/plain": [
       "[Document(page_content='Student Direct Stream: About the process\\n: Fees From $150 Processing time ? Usually 20 calendar days Processing times Processing times will vary based on: the type of application submitted if the application is complete how quickly we expect to process applications weâ€™ve already received how easily we can verify your information how long you take to respond to any requests or concerns other factors More people want to immigrate to Canada than we can bring in each year. Applications received after we meet our yearly limit may have to wait longer to be processed. Learn how processing times are calculated. Depending on where you live, you may be able to get your study permit faster through the Student Direct Stream (SDS). We try to process most SDS applications within 20 calendar days. However, some applications may take longer. To get faster processing, you must give your biometrics as soon as possible meet all the eligibility requirements A study permit is not a visa and does not, by itself, allow you to travel to or enter Canada. You may also need a visitor visa or an electronic travel authorization (eTA). If you do, we will issue your visitor visa or eTA with your study permit.', metadata={'source': 'C:\\\\Users\\\\sarda\\\\OneDrive\\\\Desktop\\\\PythonCodes\\\\PotfolioProjects\\\\LLM_Internal_Chatbot\\\\data\\\\raw\\\\output_data.csv', 'row': 0}),\n",
       " Document(page_content='Student Direct Stream: Who can apply\\n: On this page Eligibility requirements Who is eligible for the Student Direct Stream Proof of full payment of tuition for the applicantâ€™s first year of study Medical exams and police certificates Language tests Bring your spouse or partner and children with you to Canada Eligibility requirements To be eligible for faster processing through the Student Direct Stream (SDS), you must be a legal resident living in 1 of the following countries: Antigua and Barbuda Brazil China Colombia Costa Rica India Morocco Pakistan Peru Philippines Senegal Saint Vincent and the Grenadines Trinidad and Tobago Vietnam have an acceptance letter from a post-secondary designated learning institution live outside of Canada when you apply have proof you have paid your tuition for your first year of study, if youâ€™re planning to study outside Quebec have a Guaranteed Investment Certificate (GIC) in the amount required for your intended province or territory of study have an attestation of issuance of your Quebec Acceptance Certificate (CAQ) from the MinistÃ¨re de lâ€™Immigration, de la Francisation et de lâ€™IntÃ©gration This is only if youâ€™re planning to study in Quebec. get a medical exam before you apply (if you need one) get a police certificate before you apply (if you need one) have your most recent secondary or post-secondary school transcript(s) have the minimum score required for one of the qualifying language tests Depending on where youâ€™re applying from, you may also need to provide other documents. Make sure you include all the documents required by the visa office that processes your application. We may ask you to give additional documents to support your application. In this case, your application will take longer to process. Who isnâ€™t eligible for the Student Direct Stream If you live anywhere other than 1 of the countries listed above (even if youâ€™re a citizen of one of the countries above), you must apply through the regular study permit application process. If you live in another country (even if youâ€™re a citizen of one of the countries above), or if you donâ€™t meet the eligibility for faster processing, you may still be eligible for a study permit through the regular study permit application process. Proof of full payment of tuition for the applicantâ€™s first year of study This may be in the form of the following: a receipt from the DLI an official letter from the DLI confirming payment of tuition fees a receipt from a bank showing that tuition fees have been paid to the DLI proof that the tuition fee amount has been transferred into a repository account at the DLI to be applied to the tuition bill at a later date Guaranteed Investment Certificate (GIC) A GIC is a Canadian investment that has a guaranteed rate of return for a fixed period of time. Many banks offer different types of GICs. The bank that gives you the GIC must confirm that you bought a GIC by giving you 1 of the following: a letter of attestation a GIC certificate an Investment Directions Confirmation or an Investment Balance Confirmation make you confirm your identity before they release any funds to you release the funds to you by providing an initial lump sum once you identify yourself upon arrival in Canada the remainder of the funds in monthly or bi-monthly instalments over 10 to 12 months The GIC you get for the Student Direct Stream (SDS) must be held in an investment account or a student account and will be released to you when you arrive in Canada. If your GIC doesnâ€™t meet this criterion, you wonâ€™t be able to apply through the SDS. The required SDS GIC amount depends on your intended province or territory of study. For applicants intending to study outside Quebec SDS applications received before January 1, 2024 You must have an SDS-eligible GIC amounting to CAN$10,000. SDS applications received on or after January 1, 2024 You must have an SDS-eligible GIC amounting to CAN$20,635. If you have family members accompanying you, you also need to prove that you meet the regular study permit financial requirements for each additional person. For applicants intending to study in Quebec SDS applications received before January 1, 2024 You must have an SDS-eligible GIC amounting to CAN$10,000. SDS applications received on or after January 1, 2024 You must have an SDS-eligible GIC that meets the financial requirements outlined by the MinistÃ¨re de lâ€™Immigration, de la Francisation et de lâ€™IntÃ©gration for each person aged 18 and over. Financial institutions that offer eligible SDS GICs Make sure the financial institution and the type of GIC you choose meet the above criteria. The following list includes financial institutions that may offer GICs that meet the SDS criteria. It is up to you to make sure the GIC you submit meets the SDS criteria. Bank of China (Canada) Bank of Montreal Bank of Nova Scotia Bank of Xiâ€™an Co. Ltd. â€“ in partnership with the Bank of Nova Scotia China Everbright Bank Co. Ltd. â€“ in partnership with the Bank of Nova Scotia Canadian Imperial Bank of Commerce Simplii Financialâ€™s GICs are provided by CIBC. FÃ©dÃ©ration des caisses Desjardins du QuÃ©becFootnote 1 Habib Canadian Bank HSBC Canada ICICI Bank Canada Industrial and Commercial Bank of China (Canada) National Bank of Canada Royal Bank of Canada SBI Canada Bank The Toronto-Dominion Bank If youâ€™re a representative of a financial institution offering an SDS-eligible GIC product and would like to be on this list, please email IRCC.SDS-VDE.IRCC@cic.gc.ca. Medical exams and police certificates Depending on where youâ€™re applying from, you may need to get a medical exam or police certificate. To get faster processing through the Student Direct Stream, you must include these with your application (if you need them). If you donâ€™t, we wonâ€™t process your application faster. Who needs a medical exam You may need to get a medical exam if: you lived or travelled in certain countries or territories for 6 or more months in the year before you come to Canada, or you plan on studying or working in: the health field primary or secondary education, or child or elder care To get a medical exam, you must see a doctor that has been approved by IRCC. Find out more about medical exams. Who needs a police certificate Your visa office instructions will tell you if you need to get a police certificate. Youâ€™ll find these instructions when you select your country of residence below. Make sure you read these instructions before you apply, so you know if you need a police certificate or any other documents to apply. Find out more about police certificates. Language tests You must have a valid language test result that meets the minimum required score. Test results must be less than 2 years old when we receive your application. Tests must be taken in-person; online tests arenâ€™t accepted. If you applied before August 10, 2023 We only accept valid International English Language Testing System (IELTS) or Test dâ€™Ã©valuation de franÃ§ais (TEF) language test results. Your language test result must show either of the following: an IELTS score of 6 or higher in each language ability (listening, reading, writing and speaking) a TEF score that is equivalent to a Canadian Language Benchmarks (CLB) score of at least 7 for each ability (listening, reading, writing and speaking). Check the CLB equivalencies for TEF scores If you applied on or after August 10, 2023 You must submit the results from 1 of the valid language tests below that show all 4 language abilities were tested (speaking, listening, reading and writing). You must take these language tests in their in-person format to be accepted for the SDS. Online tests will not be accepted. Canadian Academic English Language (CAEL) Test You need a CAEL Test minimum overall score of 60. Canadian English Language Proficiency Index Program (CELPIP) You need a CELPIP score that is equivalent to a Canadian Language Benchmarks (CLB) score of 7 or higher for each ability. Check the CLB equivalencies for CELPIP scores. International English Language Testing System (IELTS) Academic You need an IELTS Academic minimum overall score of 6. International English Language Testing System (IELTS) General You need an IELTS general score that is equivalent to a Canadian Language Benchmarks score of 7 or higher for each ability. Check the CLB equivalencies for IELTS General scores. Pearson Test of English (PTE) Academic You need a PTE Academic minimum overall score of 60. Test de connaissance du franÃ§ais (TCF) Canada You need a TCF Canada score that is equivalent to a Canadian Language Benchmarks score of 7 or higher for each ability. Check the CLB equivalencies for TCF Canada scores. Test de connaissance du franÃ§ais (TCF) tout public You need a TCF tout public minimum overall score of 400. Test dâ€™Ã©valuation de franÃ§ais (TEF) Canada You need a TEF Canada score that is equivalent to a Canadian Language Benchmarks score of 7 or higher for each ability. Check the CLB equivalencies for TEF Canada scores. Test dâ€™Ã©valuation de franÃ§ais (TEF) 5 Ã©preuves You need a TEF 5 Ã©preuves minimum overall score of 400. Note: The Lexique/Structure ability isnâ€™t required for SDS. Test of English as a Foreign Language (TOEFL) iBT You need a TOEFL iBT minimum overall score of 83. Bring your spouse or partner and children with you to Canada Your spouse or common-law partner and dependent children may also be able to get faster processing on a visitor visa work permit study permit You must complete and submit their applications at the same time as your own. If you donâ€™t, we will not process their applications faster. When you apply online, indicate that you have family members coming with you to Canada. This lets you complete their applications with yours.', metadata={'source': 'C:\\\\Users\\\\sarda\\\\OneDrive\\\\Desktop\\\\PythonCodes\\\\PotfolioProjects\\\\LLM_Internal_Chatbot\\\\data\\\\raw\\\\output_data.csv', 'row': 1}),\n",
       " Document(page_content=\"Student Direct Stream: How to apply\\n: Apply for a study permit through the Student Direct Stream You must apply online to get faster processing for your study permit. Thereâ€™s no paper application for the Student Direct Stream. Make sure you include all the required documents with your application. Before you apply online, make sure you have the following: instruction guide to fill out your forms scanner or camera to create electronic copies of your documents valid credit or debit card to make a payment Pay your biometric fee In most cases, you need to give your biometrics. You should pay the biometric fee when you submit your application online. If you donâ€™t pay this fee, we may not be able to process your application faster. If you need help with providing your biometrics or sending us your passport, you can visit the nearest visa application centre. Credit cards and prepaid cards We accept credit cards and prepaid cards from: VisaÂ® MasterCardÂ® American ExpressÂ® JCBÂ® UnionPayÂ® (for online applications only; debit cards not accepted) If you use a prepaid credit card, keep it for at least 18 months after you pay to make refunds easier. Find more on prepaid cards. We also accept all Visa Debit cards.The card you use doesn't have to be in your name. The cardholderâ€™s name will appear on the receipt but it does not need to match your application. Debit cards It must: be from a Canadian bank using INTERACÂ® Online, and be registered for online banking through your bankâ€™s website. We also accept all Debit MasterCardÂ® and VisaÂ® Debit cards. If your card has the Visa Debit logo on it, alone or with the INTERACÂ® Online logo, select Visa Debit as your payment method. The card you use does not have to be in your name. The cardholderâ€™s name will appear on the receipt but it does not need to match your application.\", metadata={'source': 'C:\\\\Users\\\\sarda\\\\OneDrive\\\\Desktop\\\\PythonCodes\\\\PotfolioProjects\\\\LLM_Internal_Chatbot\\\\data\\\\raw\\\\output_data.csv', 'row': 2}),\n",
       " Document(page_content='Student Direct Stream: After you apply\\n: 1. You need to give your fingerprints and photo (biometrics) Once you pay your fees (including your biometrics fee) and submit your application, weâ€™ll send you a letter that says you need to give your biometrics (if you need to). The letter will tell you how and where to do this. You need to bring this letter when you give your biometrics. You also need to bring your valid passport. You have up to 30 days to give your biometrics in person. If you didnâ€™t pay the biometrics fee, weâ€™ll send you a letter asking you to do this first. You can only get the instruction letter if you pay the biometrics fee. 2. We process your study permit application Once we receive your biometrics, weâ€™ll be able to process your study permit application. We process most Student Direct Stream applications within 20 calendar days after we receive your biometrics, if you meet the eligibility. If your application doesnâ€™t meet the eligibility for the Student Direct Stream, weâ€™ll review it as a regular study permit. You wonâ€™t get faster processing if this happens. Find out how long it takes to process a regular study permit application. If we approve your application Weâ€™ll send you a port of entry letter of introduction This isnâ€™t your study permit. You need to show this letter to the officer when you arrive in Canada. an electronic travel authorization (eTA) or a visitor (temporary resident) visa, depending on which you need to enter Canada If you need an eTA Your letter of introduction will have information about it. Your eTA will be electronically linked to your passport and will be valid for 5 years or until your passport expires, whichever comes first. Make sure you travel with the passport you used to apply. If you need a visitor visa Weâ€™ll ask you to send your passport to the nearest visa office so we can attach your visa to it. Your visa will be in your passport and will show if you can enter Canada once or multiple times. You must enter Canada before your visa expires. Getting your study permit When you arrive at the port of entry, an officer will make sure you meet the requirements to enter Canada. If there are no problems, the officer will then print your study permit and give it to you. Make sure you have all the documents you need to enter Canada with you. Find out what happens when you arrive in Canada and what your conditions are as an international student in Canada. Your study permit is normally valid until the end of your school program. If your passport expires before the end of your study program, your permit will only be valid until your passport expiry date. If this happens, youâ€™ll need to apply to extend your study permit once you have a new passport. If you have questions or thereâ€™s a mistake on your study permit, ask the officer before you leave. If we refuse your application Weâ€™ll send you a letter explaining why you were refused. If you have questions, contact the office that sent the refusal letter.', metadata={'source': 'C:\\\\Users\\\\sarda\\\\OneDrive\\\\Desktop\\\\PythonCodes\\\\PotfolioProjects\\\\LLM_Internal_Chatbot\\\\data\\\\raw\\\\output_data.csv', 'row': 3})]"
      ]
     },
     "execution_count": 83,
     "metadata": {},
     "output_type": "execute_result"
    }
   ],
   "source": [
    "documents"
   ]
  },
  {
   "cell_type": "code",
   "execution_count": 84,
   "metadata": {},
   "outputs": [
    {
     "name": "stdout",
     "output_type": "stream",
     "text": [
      "page_content='Student Direct Stream: About the process\\n: Fees From $150 Processing time ? Usually 20 calendar\n",
      "days Processing times Processing times will vary based on: the type of application submitted if the\n",
      "application is complete how quickly we expect to process applications weâ€™ve already received how easily we\n",
      "can verify your information how long you take to respond to any requests or concerns other factors More people\n",
      "want to immigrate to Canada than we can bring in each year. Applications received after we meet our yearly\n",
      "limit may have to wait longer to be processed. Learn how processing times are calculated. Depending on where\n",
      "you live, you may be able to get your study permit faster through the Student Direct Stream (SDS). We try to\n",
      "process most SDS applications within 20 calendar days. However, some applications may take longer. To get\n",
      "faster processing, you must give your biometrics as soon as possible meet all the eligibility requirements A\n",
      "study permit is not a visa and does not, by itself, allow you to travel to or enter Canada. You may also need\n",
      "a visitor visa or an electronic travel authorization (eTA). If you do, we will issue your visitor visa or eTA\n",
      "with your study permit.' metadata={'source': 'C:\\\\Users\\\\sarda\\\\OneDrive\\\\Desktop\\\\PythonCodes\\\\PotfolioProjec\n",
      "ts\\\\LLM_Internal_Chatbot\\\\data\\\\raw\\\\output_data.csv', 'row': 0}\n"
     ]
    }
   ],
   "source": [
    "import textwrap\n",
    "\n",
    "def wrap_text_preserve_newlines(text, width=110):\n",
    "    # Split the input text into lines based on newline characters\n",
    "    lines = text.split('\\n')\n",
    "\n",
    "    # Wrap each line individually\n",
    "    wrapped_lines = [textwrap.fill(line, width=width) for line in lines]\n",
    "\n",
    "    # Join the wrapped lines back together using newline characters\n",
    "    wrapped_text = '\\n'.join(wrapped_lines)\n",
    "\n",
    "    return wrapped_text\n",
    "print(wrap_text_preserve_newlines(str(documents[0])))"
   ]
  },
  {
   "cell_type": "code",
   "execution_count": 85,
   "metadata": {},
   "outputs": [],
   "source": [
    "# Text Splitter\n",
    "from langchain.text_splitter import CharacterTextSplitter\n",
    "text_splitter = CharacterTextSplitter(chunk_size=1000, chunk_overlap=0)\n",
    "docs = text_splitter.split_documents(documents)"
   ]
  },
  {
   "cell_type": "code",
   "execution_count": 86,
   "metadata": {},
   "outputs": [
    {
     "data": {
      "text/plain": [
       "4"
      ]
     },
     "execution_count": 86,
     "metadata": {},
     "output_type": "execute_result"
    }
   ],
   "source": [
    "len(docs)"
   ]
  },
  {
   "cell_type": "code",
   "execution_count": 87,
   "metadata": {},
   "outputs": [
    {
     "data": {
      "text/plain": [
       "Document(page_content='Student Direct Stream: About the process\\n: Fees From $150 Processing time ? Usually 20 calendar days Processing times Processing times will vary based on: the type of application submitted if the application is complete how quickly we expect to process applications weâ€™ve already received how easily we can verify your information how long you take to respond to any requests or concerns other factors More people want to immigrate to Canada than we can bring in each year. Applications received after we meet our yearly limit may have to wait longer to be processed. Learn how processing times are calculated. Depending on where you live, you may be able to get your study permit faster through the Student Direct Stream (SDS). We try to process most SDS applications within 20 calendar days. However, some applications may take longer. To get faster processing, you must give your biometrics as soon as possible meet all the eligibility requirements A study permit is not a visa and does not, by itself, allow you to travel to or enter Canada. You may also need a visitor visa or an electronic travel authorization (eTA). If you do, we will issue your visitor visa or eTA with your study permit.', metadata={'source': 'C:\\\\Users\\\\sarda\\\\OneDrive\\\\Desktop\\\\PythonCodes\\\\PotfolioProjects\\\\LLM_Internal_Chatbot\\\\data\\\\raw\\\\output_data.csv', 'row': 0})"
      ]
     },
     "execution_count": 87,
     "metadata": {},
     "output_type": "execute_result"
    }
   ],
   "source": [
    "docs[0]"
   ]
  },
  {
   "cell_type": "code",
   "execution_count": 88,
   "metadata": {},
   "outputs": [],
   "source": [
    "# Embeddings\n",
    "from langchain.embeddings import HuggingFaceEmbeddings\n",
    "\n",
    "embeddings = HuggingFaceEmbeddings()"
   ]
  },
  {
   "cell_type": "code",
   "execution_count": 89,
   "metadata": {},
   "outputs": [],
   "source": [
    "from langchain.vectorstores import FAISS\n",
    "\n",
    "db = FAISS.from_documents(docs, embeddings)"
   ]
  },
  {
   "cell_type": "code",
   "execution_count": 90,
   "metadata": {},
   "outputs": [],
   "source": [
    "query = \"What is the cost of the sds application?\"\n",
    "docs = db.similarity_search(query)"
   ]
  },
  {
   "cell_type": "code",
   "execution_count": 104,
   "metadata": {},
   "outputs": [
    {
     "name": "stdout",
     "output_type": "stream",
     "text": [
      "Student Direct Stream: How to apply\n",
      ": Apply for a study permit through the Student Direct Stream You must apply online to get faster processing\n",
      "for your study permit. Thereâ€™s no paper application for the Student Direct Stream. Make sure you include all\n",
      "the required documents with your application. Before you apply online, make sure you have the following:\n",
      "instruction guide to fill out your forms scanner or camera to create electronic copies of your documents valid\n",
      "credit or debit card to make a payment Pay your biometric fee In most cases, you need to give your biometrics.\n",
      "You should pay the biometric fee when you submit your application online. If you donâ€™t pay this fee, we may\n",
      "not be able to process your application faster. If you need help with providing your biometrics or sending us\n",
      "your passport, you can visit the nearest visa application centre. Credit cards and prepaid cards We accept\n",
      "credit cards and prepaid cards from: VisaÂ® MasterCardÂ® American ExpressÂ® JCBÂ® UnionPayÂ® (for online\n",
      "applications only; debit cards not accepted) If you use a prepaid credit card, keep it for at least 18 months\n",
      "after you pay to make refunds easier. Find more on prepaid cards. We also accept all Visa Debit cards.The card\n",
      "you use doesn't have to be in your name. The cardholderâ€™s name will appear on the receipt but it does not\n",
      "need to match your application. Debit cards It must: be from a Canadian bank using INTERACÂ® Online, and be\n",
      "registered for online banking through your bankâ€™s website. We also accept all Debit MasterCardÂ® and VisaÂ®\n",
      "Debit cards. If your card has the Visa Debit logo on it, alone or with the INTERACÂ® Online logo, select Visa\n",
      "Debit as your payment method. The card you use does not have to be in your name. The cardholderâ€™s name will\n",
      "appear on the receipt but it does not need to match your application.\n"
     ]
    }
   ],
   "source": [
    "print(wrap_text_preserve_newlines(str(docs[0].page_content)))"
   ]
  },
  {
   "cell_type": "code",
   "execution_count": 105,
   "metadata": {},
   "outputs": [],
   "source": [
    "from langchain.chains.question_answering import load_qa_chain\n",
    "from langchain import HuggingFaceHub"
   ]
  },
  {
   "cell_type": "code",
   "execution_count": 106,
   "metadata": {},
   "outputs": [
    {
     "name": "stderr",
     "output_type": "stream",
     "text": [
      "c:\\Users\\sarda\\OneDrive\\Desktop\\PythonCodes\\PotfolioProjects\\LLM_Internal_Chatbot\\llm_learn\\lib\\site-packages\\huggingface_hub\\utils\\_deprecation.py:131: FutureWarning: 'InferenceApi' (from 'huggingface_hub.inference_api') is deprecated and will be removed from version '1.0'. `InferenceApi` client is deprecated in favor of the more feature-complete `InferenceClient`. Check out this guide to learn how to convert your script to use it: https://huggingface.co/docs/huggingface_hub/guides/inference#legacy-inferenceapi-client.\n",
      "  warnings.warn(warning_message, FutureWarning)\n"
     ]
    }
   ],
   "source": [
    "llm=HuggingFaceHub(repo_id=\"mistralai/Mixtral-8x7B-Instruct-v0.1\", model_kwargs={\"temperature\":0.7, \"max_length\":512})"
   ]
  },
  {
   "cell_type": "code",
   "execution_count": 107,
   "metadata": {},
   "outputs": [],
   "source": [
    "chain = load_qa_chain(llm, chain_type=\"stuff\")"
   ]
  },
  {
   "cell_type": "code",
   "execution_count": 108,
   "metadata": {},
   "outputs": [
    {
     "name": "stdout",
     "output_type": "stream",
     "text": [
      " The cost of the SDS application includes the study permit fee of CAD 150. Additionally, there is a biometrics fee, which currently stands at CAD 85. Therefore, the total cost of the SDS application is CAD 235. Please note that fees are subject to change and should be verified on the official Government of Canada website.\n"
     ]
    }
   ],
   "source": [
    "query = \"What is the cost of the sds application?\"\n",
    "docs = db.similarity_search(query)\n",
    "if len(docs) == 0:\n",
    "    print(\"I do not know\")\n",
    "else:\n",
    "    print(chain.run(input_documents=docs, question=query))"
   ]
  },
  {
   "cell_type": "code",
   "execution_count": 109,
   "metadata": {},
   "outputs": [
    {
     "name": "stdout",
     "output_type": "stream",
     "text": [
      " The Student Direct Stream is available for citizens of Antigua and Barbuda, Brazil, China, Colombia, Costa Rica, India, Morocco, Pakistan, Peru, Philippines, Senegal, Saint Vincent and the Grenadines, Trinidad and Tobago, and Vietnam.\n"
     ]
    }
   ],
   "source": [
    "query = \"Which citizens can apply for a student direct stream?\"\n",
    "docs = db.similarity_search(query)\n",
    "if len(docs) == 0:\n",
    "    print(\"I do not know\")\n",
    "else:\n",
    "    print(chain.run(input_documents=docs, question=query))"
   ]
  },
  {
   "cell_type": "code",
   "execution_count": 110,
   "metadata": {},
   "outputs": [
    {
     "name": "stdout",
     "output_type": "stream",
     "text": [
      " You can pay for the Student Direct Stream using valid credit or debit cards from Visa, MasterCard, American Express, JCB, UnionPay, or INTERAC Online (for online applications only, debit cards not accepted). The card does not have to be in your name, but the cardholder's name will appear on the receipt. If you use a prepaid credit card, keep it for at least 18 months after you pay to make refunds easier.\n"
     ]
    }
   ],
   "source": [
    "query = \"What payment options do I have?\"\n",
    "docs = db.similarity_search(query)\n",
    "if len(docs) == 0:\n",
    "    print(\"I do not know\")\n",
    "else:\n",
    "    print(chain.run(input_documents=docs, question=query))"
   ]
  }
 ],
 "metadata": {
  "kernelspec": {
   "display_name": "llm_learn",
   "language": "python",
   "name": "python3"
  },
  "language_info": {
   "codemirror_mode": {
    "name": "ipython",
    "version": 3
   },
   "file_extension": ".py",
   "mimetype": "text/x-python",
   "name": "python",
   "nbconvert_exporter": "python",
   "pygments_lexer": "ipython3",
   "version": "3.10.11"
  }
 },
 "nbformat": 4,
 "nbformat_minor": 2
}
